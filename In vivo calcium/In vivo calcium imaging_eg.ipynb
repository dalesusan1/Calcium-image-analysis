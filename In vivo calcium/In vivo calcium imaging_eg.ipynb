{
 "cells": [
  {
   "cell_type": "markdown",
   "metadata": {},
   "source": [
    "### Checklist\n",
    "\n",
    "* Re-name header to ROI\n",
    "* The script and the csv file has to be in the same folder, if not modify path\n",
    "* Enter correct values for baseline and treatments\n",
    "* For all cells with \"plot_\" manually select the ROIs \n",
    "* Cross-check logic in cells where data frames are being merged\n",
    "* Change labels appropriately in summary table\n",
    "* Name the export sheets appropriately\n"
   ]
  },
  {
   "cell_type": "code",
   "execution_count": 1,
   "metadata": {},
   "outputs": [],
   "source": [
    "import pandas as pd\n",
    "import openpyxl \n",
    "import numpy as np\n",
    "import matplotlib.pyplot as plt\n",
    "%matplotlib notebook"
   ]
  },
  {
   "cell_type": "code",
   "execution_count": 2,
   "metadata": {},
   "outputs": [
    {
     "data": {
      "text/html": [
       "<div>\n",
       "<style scoped>\n",
       "    .dataframe tbody tr th:only-of-type {\n",
       "        vertical-align: middle;\n",
       "    }\n",
       "\n",
       "    .dataframe tbody tr th {\n",
       "        vertical-align: top;\n",
       "    }\n",
       "\n",
       "    .dataframe thead th {\n",
       "        text-align: right;\n",
       "    }\n",
       "</style>\n",
       "<table border=\"1\" class=\"dataframe\">\n",
       "  <thead>\n",
       "    <tr style=\"text-align: right;\">\n",
       "      <th></th>\n",
       "      <th>Time (sec)</th>\n",
       "      <th>ROI1</th>\n",
       "      <th>ROI2</th>\n",
       "      <th>ROI3</th>\n",
       "      <th>ROI4</th>\n",
       "      <th>ROI5</th>\n",
       "      <th>ROI6</th>\n",
       "      <th>ROI7</th>\n",
       "      <th>ROI8</th>\n",
       "      <th>ROI9</th>\n",
       "      <th>ROI10</th>\n",
       "      <th>ROI11</th>\n",
       "      <th>ROI12</th>\n",
       "      <th>ROI13</th>\n",
       "      <th>ROI14</th>\n",
       "      <th>ROI15</th>\n",
       "      <th>ROI16</th>\n",
       "    </tr>\n",
       "  </thead>\n",
       "  <tbody>\n",
       "    <tr>\n",
       "      <td>0</td>\n",
       "      <td>1</td>\n",
       "      <td>0.069</td>\n",
       "      <td>-0.057</td>\n",
       "      <td>0.042</td>\n",
       "      <td>-0.089</td>\n",
       "      <td>0.006</td>\n",
       "      <td>0.124</td>\n",
       "      <td>0.052</td>\n",
       "      <td>-0.056</td>\n",
       "      <td>0.028</td>\n",
       "      <td>0.04</td>\n",
       "      <td>-0.020</td>\n",
       "      <td>0.051</td>\n",
       "      <td>0.051</td>\n",
       "      <td>0.017</td>\n",
       "      <td>-0.007</td>\n",
       "      <td>-0.016</td>\n",
       "    </tr>\n",
       "    <tr>\n",
       "      <td>1</td>\n",
       "      <td>2</td>\n",
       "      <td>-0.148</td>\n",
       "      <td>-0.009</td>\n",
       "      <td>0.008</td>\n",
       "      <td>0.175</td>\n",
       "      <td>-0.028</td>\n",
       "      <td>0.043</td>\n",
       "      <td>0.152</td>\n",
       "      <td>-0.016</td>\n",
       "      <td>0.047</td>\n",
       "      <td>0.03</td>\n",
       "      <td>0.037</td>\n",
       "      <td>-0.031</td>\n",
       "      <td>0.085</td>\n",
       "      <td>0.101</td>\n",
       "      <td>0.028</td>\n",
       "      <td>-0.065</td>\n",
       "    </tr>\n",
       "  </tbody>\n",
       "</table>\n",
       "</div>"
      ],
      "text/plain": [
       "   Time (sec)   ROI1   ROI2   ROI3   ROI4   ROI5   ROI6   ROI7   ROI8   ROI9  \\\n",
       "0           1  0.069 -0.057  0.042 -0.089  0.006  0.124  0.052 -0.056  0.028   \n",
       "1           2 -0.148 -0.009  0.008  0.175 -0.028  0.043  0.152 -0.016  0.047   \n",
       "\n",
       "   ROI10  ROI11  ROI12  ROI13  ROI14  ROI15  ROI16  \n",
       "0   0.04 -0.020  0.051  0.051  0.017 -0.007 -0.016  \n",
       "1   0.03  0.037 -0.031  0.085  0.101  0.028 -0.065  "
      ]
     },
     "execution_count": 2,
     "metadata": {},
     "output_type": "execute_result"
    }
   ],
   "source": [
    "#import csv\n",
    "raw = \"/Users/dalegeorge/Desktop/In vivo calcium/RD_concatenated_8_9_10_12_13.xlsx\"\n",
    "raw_df = pd.read_excel(raw)\n",
    "raw_df.head(2)"
   ]
  },
  {
   "cell_type": "code",
   "execution_count": 3,
   "metadata": {},
   "outputs": [],
   "source": [
    "# Defining the functions\n",
    "\n",
    "def Baseline(start, end):\n",
    "    raw_df = pd.read_excel(raw)\n",
    "    baseline = raw_df.loc[(raw_df[\"Time (sec)\"] >= start) & (raw_df[\"Time (sec)\"] <= end)]\n",
    "    baseline = baseline.set_index('Time (sec)')\n",
    "    baseline = np.std(baseline)\n",
    "    return baseline\n",
    "\n",
    "\n",
    "def Responders(start, end):   \n",
    "#Selecting the duration of treatment\n",
    "    duration = raw_df.loc[(raw_df[\"Time (sec)\"] >= start) & (raw_df[\"Time (sec)\"] <= end)]\n",
    "    duration = duration.set_index(\"Time (sec)\")\n",
    "    duration_max = duration.max()\n",
    "    \n",
    "#Determining responders\n",
    "    responders = duration_max > 6*baseline\n",
    "    responders = responders.transpose().reset_index()\n",
    "    responders.columns=[\"cells\", \"response\"]\n",
    "    responders = responders.loc[responders[\"response\"] == True]\n",
    "    return responders"
   ]
  },
  {
   "cell_type": "code",
   "execution_count": 4,
   "metadata": {},
   "outputs": [
    {
     "data": {
      "text/html": [
       "<div>\n",
       "<style scoped>\n",
       "    .dataframe tbody tr th:only-of-type {\n",
       "        vertical-align: middle;\n",
       "    }\n",
       "\n",
       "    .dataframe tbody tr th {\n",
       "        vertical-align: top;\n",
       "    }\n",
       "\n",
       "    .dataframe thead th {\n",
       "        text-align: right;\n",
       "    }\n",
       "</style>\n",
       "<table border=\"1\" class=\"dataframe\">\n",
       "  <thead>\n",
       "    <tr style=\"text-align: right;\">\n",
       "      <th></th>\n",
       "      <th>cells</th>\n",
       "      <th>response</th>\n",
       "    </tr>\n",
       "  </thead>\n",
       "  <tbody>\n",
       "    <tr>\n",
       "      <td>4</td>\n",
       "      <td>ROI5</td>\n",
       "      <td>True</td>\n",
       "    </tr>\n",
       "    <tr>\n",
       "      <td>9</td>\n",
       "      <td>ROI10</td>\n",
       "      <td>True</td>\n",
       "    </tr>\n",
       "    <tr>\n",
       "      <td>15</td>\n",
       "      <td>ROI16</td>\n",
       "      <td>True</td>\n",
       "    </tr>\n",
       "  </tbody>\n",
       "</table>\n",
       "</div>"
      ],
      "text/plain": [
       "    cells  response\n",
       "4    ROI5      True\n",
       "9   ROI10      True\n",
       "15  ROI16      True"
      ]
     },
     "execution_count": 4,
     "metadata": {},
     "output_type": "execute_result"
    }
   ],
   "source": [
    "#Treatment 1\n",
    "baseline = Baseline(0, 19) # first 20 seconds of the treatment as baseline\n",
    "t1_responders = Responders(20, 100)\n",
    "t1_responders"
   ]
  },
  {
   "cell_type": "code",
   "execution_count": 5,
   "metadata": {},
   "outputs": [],
   "source": [
    "plot_t1 = raw_df[[\"Time (sec)\", \\\n",
    "                        \"ROI5\", \"ROI10\", \"ROI16\"]]"
   ]
  },
  {
   "cell_type": "code",
   "execution_count": 6,
   "metadata": {},
   "outputs": [
    {
     "data": {
      "text/html": [
       "<div>\n",
       "<style scoped>\n",
       "    .dataframe tbody tr th:only-of-type {\n",
       "        vertical-align: middle;\n",
       "    }\n",
       "\n",
       "    .dataframe tbody tr th {\n",
       "        vertical-align: top;\n",
       "    }\n",
       "\n",
       "    .dataframe thead th {\n",
       "        text-align: right;\n",
       "    }\n",
       "</style>\n",
       "<table border=\"1\" class=\"dataframe\">\n",
       "  <thead>\n",
       "    <tr style=\"text-align: right;\">\n",
       "      <th></th>\n",
       "      <th>cells</th>\n",
       "      <th>response</th>\n",
       "    </tr>\n",
       "  </thead>\n",
       "  <tbody>\n",
       "    <tr>\n",
       "      <td>0</td>\n",
       "      <td>ROI1</td>\n",
       "      <td>True</td>\n",
       "    </tr>\n",
       "    <tr>\n",
       "      <td>2</td>\n",
       "      <td>ROI3</td>\n",
       "      <td>True</td>\n",
       "    </tr>\n",
       "    <tr>\n",
       "      <td>6</td>\n",
       "      <td>ROI7</td>\n",
       "      <td>True</td>\n",
       "    </tr>\n",
       "    <tr>\n",
       "      <td>8</td>\n",
       "      <td>ROI9</td>\n",
       "      <td>True</td>\n",
       "    </tr>\n",
       "    <tr>\n",
       "      <td>9</td>\n",
       "      <td>ROI10</td>\n",
       "      <td>True</td>\n",
       "    </tr>\n",
       "    <tr>\n",
       "      <td>12</td>\n",
       "      <td>ROI13</td>\n",
       "      <td>True</td>\n",
       "    </tr>\n",
       "    <tr>\n",
       "      <td>13</td>\n",
       "      <td>ROI14</td>\n",
       "      <td>True</td>\n",
       "    </tr>\n",
       "  </tbody>\n",
       "</table>\n",
       "</div>"
      ],
      "text/plain": [
       "    cells  response\n",
       "0    ROI1      True\n",
       "2    ROI3      True\n",
       "6    ROI7      True\n",
       "8    ROI9      True\n",
       "9   ROI10      True\n",
       "12  ROI13      True\n",
       "13  ROI14      True"
      ]
     },
     "execution_count": 6,
     "metadata": {},
     "output_type": "execute_result"
    }
   ],
   "source": [
    "#Treatment 2\n",
    "baseline = Baseline(101, 119)\n",
    "\n",
    "t2_responders = Responders(120, 200)\n",
    "t2_responders"
   ]
  },
  {
   "cell_type": "code",
   "execution_count": 7,
   "metadata": {},
   "outputs": [],
   "source": [
    "plot_t2 = raw_df[[\"Time (sec)\", \\\n",
    "                        \"ROI1\", \"ROI3\", \"ROI7\", \"ROI9\", \"ROI10\", \"ROI13\", \"ROI14\"]]"
   ]
  },
  {
   "cell_type": "code",
   "execution_count": 8,
   "metadata": {},
   "outputs": [
    {
     "data": {
      "text/html": [
       "<div>\n",
       "<style scoped>\n",
       "    .dataframe tbody tr th:only-of-type {\n",
       "        vertical-align: middle;\n",
       "    }\n",
       "\n",
       "    .dataframe tbody tr th {\n",
       "        vertical-align: top;\n",
       "    }\n",
       "\n",
       "    .dataframe thead th {\n",
       "        text-align: right;\n",
       "    }\n",
       "</style>\n",
       "<table border=\"1\" class=\"dataframe\">\n",
       "  <thead>\n",
       "    <tr style=\"text-align: right;\">\n",
       "      <th></th>\n",
       "      <th>cells</th>\n",
       "      <th>response</th>\n",
       "    </tr>\n",
       "  </thead>\n",
       "  <tbody>\n",
       "    <tr>\n",
       "      <td>1</td>\n",
       "      <td>ROI2</td>\n",
       "      <td>True</td>\n",
       "    </tr>\n",
       "    <tr>\n",
       "      <td>2</td>\n",
       "      <td>ROI3</td>\n",
       "      <td>True</td>\n",
       "    </tr>\n",
       "    <tr>\n",
       "      <td>9</td>\n",
       "      <td>ROI10</td>\n",
       "      <td>True</td>\n",
       "    </tr>\n",
       "  </tbody>\n",
       "</table>\n",
       "</div>"
      ],
      "text/plain": [
       "   cells  response\n",
       "1   ROI2      True\n",
       "2   ROI3      True\n",
       "9  ROI10      True"
      ]
     },
     "execution_count": 8,
     "metadata": {},
     "output_type": "execute_result"
    }
   ],
   "source": [
    "#Treatment 3\n",
    "baseline = Baseline(201, 219)\n",
    "\n",
    "t3_responders = Responders(220, 300)\n",
    "t3_responders"
   ]
  },
  {
   "cell_type": "code",
   "execution_count": 9,
   "metadata": {},
   "outputs": [],
   "source": [
    "plot_t3 = raw_df[[\"Time (sec)\", \\\n",
    "                        \"ROI2\", \"ROI3\", \"ROI10\"]]"
   ]
  },
  {
   "cell_type": "code",
   "execution_count": 10,
   "metadata": {},
   "outputs": [
    {
     "data": {
      "text/html": [
       "<div>\n",
       "<style scoped>\n",
       "    .dataframe tbody tr th:only-of-type {\n",
       "        vertical-align: middle;\n",
       "    }\n",
       "\n",
       "    .dataframe tbody tr th {\n",
       "        vertical-align: top;\n",
       "    }\n",
       "\n",
       "    .dataframe thead th {\n",
       "        text-align: right;\n",
       "    }\n",
       "</style>\n",
       "<table border=\"1\" class=\"dataframe\">\n",
       "  <thead>\n",
       "    <tr style=\"text-align: right;\">\n",
       "      <th></th>\n",
       "      <th>cells</th>\n",
       "      <th>response</th>\n",
       "    </tr>\n",
       "  </thead>\n",
       "  <tbody>\n",
       "    <tr>\n",
       "      <td>2</td>\n",
       "      <td>ROI3</td>\n",
       "      <td>True</td>\n",
       "    </tr>\n",
       "    <tr>\n",
       "      <td>4</td>\n",
       "      <td>ROI5</td>\n",
       "      <td>True</td>\n",
       "    </tr>\n",
       "    <tr>\n",
       "      <td>10</td>\n",
       "      <td>ROI11</td>\n",
       "      <td>True</td>\n",
       "    </tr>\n",
       "    <tr>\n",
       "      <td>14</td>\n",
       "      <td>ROI15</td>\n",
       "      <td>True</td>\n",
       "    </tr>\n",
       "  </tbody>\n",
       "</table>\n",
       "</div>"
      ],
      "text/plain": [
       "    cells  response\n",
       "2    ROI3      True\n",
       "4    ROI5      True\n",
       "10  ROI11      True\n",
       "14  ROI15      True"
      ]
     },
     "execution_count": 10,
     "metadata": {},
     "output_type": "execute_result"
    }
   ],
   "source": [
    "#Treatment 4\n",
    "baseline = Baseline(301, 319)\n",
    "\n",
    "t4_responders = Responders(320, 400)\n",
    "t4_responders"
   ]
  },
  {
   "cell_type": "code",
   "execution_count": 11,
   "metadata": {},
   "outputs": [],
   "source": [
    "plot_t4 = raw_df[[\"Time (sec)\", \\\n",
    "                        \"ROI3\", \"ROI5\", \"ROI11\", \"ROI15\"]]"
   ]
  },
  {
   "cell_type": "code",
   "execution_count": 12,
   "metadata": {},
   "outputs": [
    {
     "data": {
      "text/html": [
       "<div>\n",
       "<style scoped>\n",
       "    .dataframe tbody tr th:only-of-type {\n",
       "        vertical-align: middle;\n",
       "    }\n",
       "\n",
       "    .dataframe tbody tr th {\n",
       "        vertical-align: top;\n",
       "    }\n",
       "\n",
       "    .dataframe thead th {\n",
       "        text-align: right;\n",
       "    }\n",
       "</style>\n",
       "<table border=\"1\" class=\"dataframe\">\n",
       "  <thead>\n",
       "    <tr style=\"text-align: right;\">\n",
       "      <th></th>\n",
       "      <th>cells</th>\n",
       "      <th>Beta-alanine</th>\n",
       "      <th>Saline</th>\n",
       "    </tr>\n",
       "  </thead>\n",
       "  <tbody>\n",
       "    <tr>\n",
       "      <td>0</td>\n",
       "      <td>ROI1</td>\n",
       "      <td>True</td>\n",
       "      <td>NaN</td>\n",
       "    </tr>\n",
       "    <tr>\n",
       "      <td>1</td>\n",
       "      <td>ROI3</td>\n",
       "      <td>True</td>\n",
       "      <td>NaN</td>\n",
       "    </tr>\n",
       "    <tr>\n",
       "      <td>2</td>\n",
       "      <td>ROI7</td>\n",
       "      <td>True</td>\n",
       "      <td>NaN</td>\n",
       "    </tr>\n",
       "    <tr>\n",
       "      <td>3</td>\n",
       "      <td>ROI9</td>\n",
       "      <td>True</td>\n",
       "      <td>NaN</td>\n",
       "    </tr>\n",
       "    <tr>\n",
       "      <td>4</td>\n",
       "      <td>ROI10</td>\n",
       "      <td>True</td>\n",
       "      <td>True</td>\n",
       "    </tr>\n",
       "    <tr>\n",
       "      <td>5</td>\n",
       "      <td>ROI13</td>\n",
       "      <td>True</td>\n",
       "      <td>NaN</td>\n",
       "    </tr>\n",
       "    <tr>\n",
       "      <td>6</td>\n",
       "      <td>ROI14</td>\n",
       "      <td>True</td>\n",
       "      <td>NaN</td>\n",
       "    </tr>\n",
       "  </tbody>\n",
       "</table>\n",
       "</div>"
      ],
      "text/plain": [
       "   cells Beta-alanine Saline\n",
       "0   ROI1         True    NaN\n",
       "1   ROI3         True    NaN\n",
       "2   ROI7         True    NaN\n",
       "3   ROI9         True    NaN\n",
       "4  ROI10         True   True\n",
       "5  ROI13         True    NaN\n",
       "6  ROI14         True    NaN"
      ]
     },
     "execution_count": 12,
     "metadata": {},
     "output_type": "execute_result"
    }
   ],
   "source": [
    "#cells that respond to beta-alanine but not saline\n",
    "only_ba = pd.merge(t2_responders, t1_responders, on='cells', how='outer')\n",
    "only_ba = only_ba.rename(columns={\"response_x\": \"Beta-alanine\", \"response_y\": \"Saline\"}).dropna(subset=[\"Beta-alanine\"])\n",
    "only_ba"
   ]
  },
  {
   "cell_type": "code",
   "execution_count": 13,
   "metadata": {},
   "outputs": [
    {
     "data": {
      "text/html": [
       "<div>\n",
       "<style scoped>\n",
       "    .dataframe tbody tr th:only-of-type {\n",
       "        vertical-align: middle;\n",
       "    }\n",
       "\n",
       "    .dataframe tbody tr th {\n",
       "        vertical-align: top;\n",
       "    }\n",
       "\n",
       "    .dataframe thead th {\n",
       "        text-align: right;\n",
       "    }\n",
       "</style>\n",
       "<table border=\"1\" class=\"dataframe\">\n",
       "  <thead>\n",
       "    <tr style=\"text-align: right;\">\n",
       "      <th></th>\n",
       "      <th>cells</th>\n",
       "      <th>Beta-alanine</th>\n",
       "      <th>Saline</th>\n",
       "    </tr>\n",
       "  </thead>\n",
       "  <tbody>\n",
       "    <tr>\n",
       "      <td>0</td>\n",
       "      <td>ROI1</td>\n",
       "      <td>True</td>\n",
       "      <td>NaN</td>\n",
       "    </tr>\n",
       "    <tr>\n",
       "      <td>1</td>\n",
       "      <td>ROI3</td>\n",
       "      <td>True</td>\n",
       "      <td>NaN</td>\n",
       "    </tr>\n",
       "    <tr>\n",
       "      <td>2</td>\n",
       "      <td>ROI7</td>\n",
       "      <td>True</td>\n",
       "      <td>NaN</td>\n",
       "    </tr>\n",
       "    <tr>\n",
       "      <td>3</td>\n",
       "      <td>ROI9</td>\n",
       "      <td>True</td>\n",
       "      <td>NaN</td>\n",
       "    </tr>\n",
       "    <tr>\n",
       "      <td>5</td>\n",
       "      <td>ROI13</td>\n",
       "      <td>True</td>\n",
       "      <td>NaN</td>\n",
       "    </tr>\n",
       "    <tr>\n",
       "      <td>6</td>\n",
       "      <td>ROI14</td>\n",
       "      <td>True</td>\n",
       "      <td>NaN</td>\n",
       "    </tr>\n",
       "  </tbody>\n",
       "</table>\n",
       "</div>"
      ],
      "text/plain": [
       "   cells Beta-alanine Saline\n",
       "0   ROI1         True    NaN\n",
       "1   ROI3         True    NaN\n",
       "2   ROI7         True    NaN\n",
       "3   ROI9         True    NaN\n",
       "5  ROI13         True    NaN\n",
       "6  ROI14         True    NaN"
      ]
     },
     "execution_count": 13,
     "metadata": {},
     "output_type": "execute_result"
    }
   ],
   "source": [
    "#Removing cells that responded to both treatments\n",
    "only_ba = only_ba.drop([4]) #index the row where both columns have a true value\n",
    "only_ba"
   ]
  },
  {
   "cell_type": "code",
   "execution_count": 45,
   "metadata": {},
   "outputs": [],
   "source": [
    "plot_only_ba = raw_df[[\"Time (sec)\", \\\n",
    "                        \"ROI1\", \"ROI3\", \"ROI7\", \"ROI9\", \"ROI13\", \"ROI14\"]]"
   ]
  },
  {
   "cell_type": "code",
   "execution_count": 14,
   "metadata": {},
   "outputs": [
    {
     "data": {
      "text/html": [
       "<div>\n",
       "<style scoped>\n",
       "    .dataframe tbody tr th:only-of-type {\n",
       "        vertical-align: middle;\n",
       "    }\n",
       "\n",
       "    .dataframe tbody tr th {\n",
       "        vertical-align: top;\n",
       "    }\n",
       "\n",
       "    .dataframe thead th {\n",
       "        text-align: right;\n",
       "    }\n",
       "</style>\n",
       "<table border=\"1\" class=\"dataframe\">\n",
       "  <thead>\n",
       "    <tr style=\"text-align: right;\">\n",
       "      <th></th>\n",
       "      <th>cells</th>\n",
       "      <th>Capsaicin</th>\n",
       "      <th>Ethanol</th>\n",
       "    </tr>\n",
       "  </thead>\n",
       "  <tbody>\n",
       "    <tr>\n",
       "      <td>0</td>\n",
       "      <td>ROI3</td>\n",
       "      <td>True</td>\n",
       "      <td>True</td>\n",
       "    </tr>\n",
       "    <tr>\n",
       "      <td>1</td>\n",
       "      <td>ROI5</td>\n",
       "      <td>True</td>\n",
       "      <td>NaN</td>\n",
       "    </tr>\n",
       "    <tr>\n",
       "      <td>2</td>\n",
       "      <td>ROI11</td>\n",
       "      <td>True</td>\n",
       "      <td>NaN</td>\n",
       "    </tr>\n",
       "    <tr>\n",
       "      <td>3</td>\n",
       "      <td>ROI15</td>\n",
       "      <td>True</td>\n",
       "      <td>NaN</td>\n",
       "    </tr>\n",
       "  </tbody>\n",
       "</table>\n",
       "</div>"
      ],
      "text/plain": [
       "   cells Capsaicin Ethanol\n",
       "0   ROI3      True    True\n",
       "1   ROI5      True     NaN\n",
       "2  ROI11      True     NaN\n",
       "3  ROI15      True     NaN"
      ]
     },
     "execution_count": 14,
     "metadata": {},
     "output_type": "execute_result"
    }
   ],
   "source": [
    "#cells that repsond to capsaicin but not ethanol\n",
    "only_cap = pd.merge(t4_responders, t3_responders, on='cells', how='outer')\n",
    "only_cap = only_cap.rename(columns={\"response_x\": \"Capsaicin\", \"response_y\": \"Ethanol\"}).dropna(subset=[\"Capsaicin\"])\n",
    "only_cap"
   ]
  },
  {
   "cell_type": "code",
   "execution_count": 15,
   "metadata": {},
   "outputs": [
    {
     "data": {
      "text/html": [
       "<div>\n",
       "<style scoped>\n",
       "    .dataframe tbody tr th:only-of-type {\n",
       "        vertical-align: middle;\n",
       "    }\n",
       "\n",
       "    .dataframe tbody tr th {\n",
       "        vertical-align: top;\n",
       "    }\n",
       "\n",
       "    .dataframe thead th {\n",
       "        text-align: right;\n",
       "    }\n",
       "</style>\n",
       "<table border=\"1\" class=\"dataframe\">\n",
       "  <thead>\n",
       "    <tr style=\"text-align: right;\">\n",
       "      <th></th>\n",
       "      <th>cells</th>\n",
       "      <th>Capsaicin</th>\n",
       "      <th>Ethanol</th>\n",
       "    </tr>\n",
       "  </thead>\n",
       "  <tbody>\n",
       "    <tr>\n",
       "      <td>1</td>\n",
       "      <td>ROI5</td>\n",
       "      <td>True</td>\n",
       "      <td>NaN</td>\n",
       "    </tr>\n",
       "    <tr>\n",
       "      <td>2</td>\n",
       "      <td>ROI11</td>\n",
       "      <td>True</td>\n",
       "      <td>NaN</td>\n",
       "    </tr>\n",
       "    <tr>\n",
       "      <td>3</td>\n",
       "      <td>ROI15</td>\n",
       "      <td>True</td>\n",
       "      <td>NaN</td>\n",
       "    </tr>\n",
       "  </tbody>\n",
       "</table>\n",
       "</div>"
      ],
      "text/plain": [
       "   cells Capsaicin Ethanol\n",
       "1   ROI5      True     NaN\n",
       "2  ROI11      True     NaN\n",
       "3  ROI15      True     NaN"
      ]
     },
     "execution_count": 15,
     "metadata": {},
     "output_type": "execute_result"
    }
   ],
   "source": [
    "#Removing cells that responded to both treatments\n",
    "only_cap = only_cap.drop([0]) #index the row where both columns have a true value\n",
    "only_cap"
   ]
  },
  {
   "cell_type": "code",
   "execution_count": 46,
   "metadata": {},
   "outputs": [],
   "source": [
    "plot_only_cap = raw_df[[\"Time (sec)\", \\\n",
    "                        \"ROI5\", \"ROI11\", \"ROI15\"]]"
   ]
  },
  {
   "cell_type": "code",
   "execution_count": 20,
   "metadata": {},
   "outputs": [
    {
     "data": {
      "text/html": [
       "<div>\n",
       "<style scoped>\n",
       "    .dataframe tbody tr th:only-of-type {\n",
       "        vertical-align: middle;\n",
       "    }\n",
       "\n",
       "    .dataframe tbody tr th {\n",
       "        vertical-align: top;\n",
       "    }\n",
       "\n",
       "    .dataframe thead th {\n",
       "        text-align: right;\n",
       "    }\n",
       "</style>\n",
       "<table border=\"1\" class=\"dataframe\">\n",
       "  <thead>\n",
       "    <tr style=\"text-align: right;\">\n",
       "      <th></th>\n",
       "      <th>cells</th>\n",
       "      <th>Beta-alanine</th>\n",
       "      <th>Capsaicin</th>\n",
       "    </tr>\n",
       "  </thead>\n",
       "  <tbody>\n",
       "  </tbody>\n",
       "</table>\n",
       "</div>"
      ],
      "text/plain": [
       "Empty DataFrame\n",
       "Columns: [cells, Beta-alanine, Capsaicin]\n",
       "Index: []"
      ]
     },
     "execution_count": 20,
     "metadata": {},
     "output_type": "execute_result"
    }
   ],
   "source": [
    "#cells that responded to both capsaicin and any beta-alanine\n",
    "ba_cap = pd.merge(only_ba[[\"cells\",\"Beta-alanine\"]], only_cap[[\"cells\",\"Capsaicin\"]], on=\"cells\", how=\"inner\")\n",
    "ba_cap"
   ]
  },
  {
   "cell_type": "code",
   "execution_count": 48,
   "metadata": {},
   "outputs": [],
   "source": [
    "plot_ba_cap = raw_df[\"Time (sec)\"]"
   ]
  },
  {
   "cell_type": "code",
   "execution_count": 42,
   "metadata": {},
   "outputs": [
    {
     "name": "stdout",
     "output_type": "stream",
     "text": [
      "What is the area?: 0.0002\n"
     ]
    }
   ],
   "source": [
    "#Determining % of reponders\n",
    "\n",
    "area_Nav_GCaMP = 0.00051\n",
    "\n",
    "area_of_DRG = float(input(\"What is the area?: \"))\n",
    "\n",
    "\n",
    "no_of_neurons = area_of_DRG * area_Nav_GCaMP\n",
    "\n",
    "\n",
    "per_t1_responders = round((t1_responders[\"cells\"].count()/no_of_neurons)*100, 2)\n",
    "per_t3_responders = round((t3_responders[\"cells\"].count()/no_of_neurons)*100, 2)\n",
    "\n",
    "per_only_ba_responders = round((only_ba[\"cells\"].count()/no_of_neurons)*100, 2)\n",
    "per_only_cap_responders = round((only_cap[\"cells\"].count()/no_of_neurons)*100, 2)\n",
    "per_ba_cap_responders = round((ba_cap[\"cells\"].count()/no_of_neurons)*100, 2)\n"
   ]
  },
  {
   "cell_type": "code",
   "execution_count": 43,
   "metadata": {},
   "outputs": [
    {
     "data": {
      "text/html": [
       "<div>\n",
       "<style scoped>\n",
       "    .dataframe tbody tr th:only-of-type {\n",
       "        vertical-align: middle;\n",
       "    }\n",
       "\n",
       "    .dataframe tbody tr th {\n",
       "        vertical-align: top;\n",
       "    }\n",
       "\n",
       "    .dataframe thead th {\n",
       "        text-align: right;\n",
       "    }\n",
       "</style>\n",
       "<table border=\"1\" class=\"dataframe\">\n",
       "  <thead>\n",
       "    <tr style=\"text-align: right;\">\n",
       "      <th></th>\n",
       "      <th>Saline</th>\n",
       "      <th>Beta alanine (100mM)</th>\n",
       "      <th>Ethanol</th>\n",
       "      <th>Capsaicin (10 mM)</th>\n",
       "      <th>Beta alanine and capsaicin</th>\n",
       "    </tr>\n",
       "  </thead>\n",
       "  <tbody>\n",
       "    <tr>\n",
       "      <td>0</td>\n",
       "      <td>2.941176e+09</td>\n",
       "      <td>5.882353e+09</td>\n",
       "      <td>2.941176e+09</td>\n",
       "      <td>2.941176e+09</td>\n",
       "      <td>0.0</td>\n",
       "    </tr>\n",
       "  </tbody>\n",
       "</table>\n",
       "</div>"
      ],
      "text/plain": [
       "         Saline  Beta alanine (100mM)       Ethanol  Capsaicin (10 mM)  \\\n",
       "0  2.941176e+09          5.882353e+09  2.941176e+09       2.941176e+09   \n",
       "\n",
       "   Beta alanine and capsaicin  \n",
       "0                         0.0  "
      ]
     },
     "execution_count": 43,
     "metadata": {},
     "output_type": "execute_result"
    }
   ],
   "source": [
    "treatment_summary = pd.DataFrame({\"Saline\": [per_t1_responders],\n",
    "                      \"Beta alanine (100mM)\": [per_only_ba_responders],\n",
    "                      \"Ethanol\": [per_t3_responders],\n",
    "                      \"Capsaicin (10 mM)\": [per_only_cap_responders],\n",
    "                      \"Beta alanine and capsaicin\": [per_ba_cap]})\n",
    "\n",
    "treatment_summary\n"
   ]
  },
  {
   "cell_type": "code",
   "execution_count": 49,
   "metadata": {},
   "outputs": [],
   "source": [
    "# Exporting files\n",
    "\n",
    "with pd.ExcelWriter('output.xlsx') as writer:  \n",
    "    plot_t1.to_excel(writer, sheet_name='t1', index=False)\n",
    "    plot_t2.to_excel(writer, sheet_name='t2', index=False)\n",
    "    plot_t3.to_excel(writer, sheet_name='t3', index=False)\n",
    "    plot_t4.to_excel(writer, sheet_name='t4', index=False)\n",
    "    plot_only_ba.to_excel(writer, sheet_name='only_ba', index=False)\n",
    "    plot_only_cap.to_excel(writer, sheet_name='only_cap', index=False)\n",
    "    plot_ba_cap.to_excel(writer, sheet_name='ba_cap', index=False)    "
   ]
  }
 ],
 "metadata": {
  "kernelspec": {
   "display_name": "Python 3",
   "language": "python",
   "name": "python3"
  },
  "language_info": {
   "codemirror_mode": {
    "name": "ipython",
    "version": 3
   },
   "file_extension": ".py",
   "mimetype": "text/x-python",
   "name": "python",
   "nbconvert_exporter": "python",
   "pygments_lexer": "ipython3",
   "version": "3.7.4"
  }
 },
 "nbformat": 4,
 "nbformat_minor": 2
}
