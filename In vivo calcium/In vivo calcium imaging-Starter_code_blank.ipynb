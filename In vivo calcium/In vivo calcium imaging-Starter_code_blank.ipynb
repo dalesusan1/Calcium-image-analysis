{
 "cells": [
  {
   "cell_type": "markdown",
   "metadata": {},
   "source": [
    "### Checklist\n",
    "\n",
    "* Re-name header to ROI\n",
    "* The script and the csv file has to be in the same folder, if not modify path\n",
    "* Enter correct values for baseline and treatments\n",
    "* For all cells with \"plot_\" manually select the ROIs \n",
    "* Cross-check logic in cells where data frames are being merged\n",
    "* Change labels appropriately in summary table\n",
    "* Name the export sheets appropriately\n"
   ]
  },
  {
   "cell_type": "code",
   "execution_count": null,
   "metadata": {},
   "outputs": [],
   "source": [
    "import pandas as pd\n",
    "import openpyxl \n",
    "import numpy as np\n",
    "import matplotlib.pyplot as plt\n",
    "%matplotlib notebook"
   ]
  },
  {
   "cell_type": "code",
   "execution_count": null,
   "metadata": {},
   "outputs": [],
   "source": [
    "#import csv\n",
    "raw = \"\" # enter the correct path"
   ]
  },
  {
   "cell_type": "code",
   "execution_count": null,
   "metadata": {},
   "outputs": [],
   "source": [
    "# Defining the functions\n",
    "\n",
    "def Baseline(start, end):\n",
    "    raw_df = pd.read_excel(raw)\n",
    "    baseline = raw_df.loc[(raw_df[\"Time (sec)\"] >= start) & (raw_df[\"Time (sec)\"] <= end)]\n",
    "    baseline = baseline.set_index('Time (sec)')\n",
    "    baseline = np.std(baseline)\n",
    "    return baseline\n",
    "\n",
    "### Cut-off is 6*STDEV\n",
    "\n",
    "def Responders(start, end):   \n",
    "#Selecting the duration of treatment\n",
    "    duration = raw_df.loc[(raw_df[\"Time (sec)\"] >= start) & (raw_df[\"Time (sec)\"] <= end)]\n",
    "    duration = duration.set_index(\"Time (sec)\")\n",
    "    duration_max = duration.max()\n",
    "    \n",
    "#Determining responders\n",
    "    responders = duration_max > 6*baseline\n",
    "    responders = responders.transpose().reset_index()\n",
    "    responders.columns=[\"cells\", \"response\"]\n",
    "    responders = responders.loc[responders[\"response\"] == True]\n",
    "    return responders"
   ]
  },
  {
   "cell_type": "code",
   "execution_count": null,
   "metadata": {},
   "outputs": [],
   "source": [
    "#Treatment 1\n",
    "baseline = Baseline(0, 19) # first 20 seconds of the treatment as baseline\n",
    "t1_responders = Responders(20, 100)\n",
    "t1_responders"
   ]
  },
  {
   "cell_type": "code",
   "execution_count": null,
   "metadata": {},
   "outputs": [],
   "source": [
    "plot_t1 = raw_df[[\"Time (sec)\", \\\n",
    "                        \"\", \"\", \"\"]]"
   ]
  },
  {
   "cell_type": "code",
   "execution_count": null,
   "metadata": {},
   "outputs": [],
   "source": [
    "#Treatment 2\n",
    "baseline = Baseline(101, 119) \n",
    "\n",
    "t2_responders = Responders(120, 200) \n",
    "t2_responders"
   ]
  },
  {
   "cell_type": "code",
   "execution_count": null,
   "metadata": {},
   "outputs": [],
   "source": [
    "plot_t2 = raw_df[[\"Time (sec)\", \\\n",
    "                        \"\", \"\", \"\", \"\", \"\", \"\", \"\"]]"
   ]
  },
  {
   "cell_type": "code",
   "execution_count": null,
   "metadata": {},
   "outputs": [],
   "source": [
    "#Treatment 3\n",
    "baseline = Baseline(201, 219)\n",
    "\n",
    "t3_responders = Responders(220, 300)\n",
    "t3_responders"
   ]
  },
  {
   "cell_type": "code",
   "execution_count": null,
   "metadata": {},
   "outputs": [],
   "source": [
    "plot_t3 = raw_df[[\"Time (sec)\", \\\n",
    "                        \"\", \"\", \"\"]]"
   ]
  },
  {
   "cell_type": "code",
   "execution_count": null,
   "metadata": {},
   "outputs": [],
   "source": [
    "#Treatment 4\n",
    "baseline = Baseline(301, 319)\n",
    "\n",
    "t4_responders = Responders(320, 400)\n",
    "t4_responders"
   ]
  },
  {
   "cell_type": "code",
   "execution_count": null,
   "metadata": {},
   "outputs": [],
   "source": [
    "plot_t4 = raw_df[[\"Time (sec)\", \\\n",
    "                        \"\", \"\", \"\", \"\"]]"
   ]
  },
  {
   "cell_type": "code",
   "execution_count": null,
   "metadata": {},
   "outputs": [],
   "source": [
    "#cells that respond to beta-alanine but not saline\n",
    "only_ba = pd.merge(t2_responders, t1_responders, on='cells', how='outer')\n",
    "only_ba = only_ba.rename(columns={\"response_x\": \"Beta-alanine\", \"response_y\": \"Saline\"}).dropna(subset=[\"Beta-alanine\"])\n",
    "only_ba"
   ]
  },
  {
   "cell_type": "code",
   "execution_count": null,
   "metadata": {},
   "outputs": [],
   "source": [
    "#Removing cells that responded to both treatments\n",
    "only_ba = only_ba.drop([4]) #index the row where both columns have a true value\n",
    "only_ba"
   ]
  },
  {
   "cell_type": "code",
   "execution_count": null,
   "metadata": {},
   "outputs": [],
   "source": [
    "plot_only_ba = raw_df[[\"Time (sec)\", \\\n",
    "                        \"\", \"\", \"\", \"\", \"\", \"\"]]"
   ]
  },
  {
   "cell_type": "code",
   "execution_count": null,
   "metadata": {},
   "outputs": [],
   "source": [
    "#cells that repsond to capsaicin but not ethanol\n",
    "only_cap = pd.merge(t4_responders, t3_responders, on='cells', how='outer')\n",
    "only_cap = only_cap.rename(columns={\"response_x\": \"Capsaicin\", \"response_y\": \"Ethanol\"}).dropna(subset=[\"Capsaicin\"])\n",
    "only_cap"
   ]
  },
  {
   "cell_type": "code",
   "execution_count": null,
   "metadata": {},
   "outputs": [],
   "source": [
    "#Removing cells that responded to both treatments\n",
    "only_cap = only_cap.drop([0]) #index the row where both columns have a true value\n",
    "only_cap"
   ]
  },
  {
   "cell_type": "code",
   "execution_count": null,
   "metadata": {},
   "outputs": [],
   "source": [
    "plot_only_cap = raw_df[[\"Time (sec)\", \\\n",
    "                        \"\", \"\", \"\"]]"
   ]
  },
  {
   "cell_type": "code",
   "execution_count": null,
   "metadata": {},
   "outputs": [],
   "source": [
    "#cells that responded to both capsaicin and any beta-alanine\n",
    "ba_cap = pd.merge(only_ba[[\"cells\",\"Beta-alanine\"]], only_cap[[\"cells\",\"Capsaicin\"]], on=\"cells\", how=\"inner\")\n",
    "ba_cap"
   ]
  },
  {
   "cell_type": "code",
   "execution_count": null,
   "metadata": {},
   "outputs": [],
   "source": [
    "plot_ba_cap = raw_df[\"Time (sec)\"]"
   ]
  },
  {
   "cell_type": "code",
   "execution_count": null,
   "metadata": {},
   "outputs": [],
   "source": [
    "#Determining % of reponders\n",
    "\n",
    "area_Nav_GCaMP = 0.00051\n",
    "\n",
    "area_of_DRG = float(input(\"What is the area?: \"))\n",
    "\n",
    "\n",
    "no_of_neurons = area_of_DRG * area_Nav_GCaMP\n",
    "\n",
    "\n",
    "per_t1_responders = round((t1_responders[\"cells\"].count()/no_of_neurons)*100, 2)\n",
    "per_t3_responders = round((t3_responders[\"cells\"].count()/no_of_neurons)*100, 2)\n",
    "\n",
    "per_only_ba_responders = round((only_ba[\"cells\"].count()/no_of_neurons)*100, 2)\n",
    "per_only_cap_responders = round((only_cap[\"cells\"].count()/no_of_neurons)*100, 2)\n",
    "per_ba_cap_responders = round((ba_cap[\"cells\"].count()/no_of_neurons)*100, 2)\n"
   ]
  },
  {
   "cell_type": "code",
   "execution_count": null,
   "metadata": {},
   "outputs": [],
   "source": [
    "treatment_summary = pd.DataFrame({\"Saline\": [per_t1_responders],\n",
    "                      \"Beta alanine (100mM)\": [per_only_ba_responders],\n",
    "                      \"Ethanol\": [per_t3_responders],\n",
    "                      \"Capsaicin (10 mM)\": [per_only_cap_responders],\n",
    "                      \"Beta alanine and capsaicin\": [per_ba_cap]})\n",
    "\n",
    "treatment_summary\n"
   ]
  },
  {
   "cell_type": "code",
   "execution_count": null,
   "metadata": {},
   "outputs": [],
   "source": [
    "# Exporting files\n",
    "\n",
    "with pd.ExcelWriter('output.xlsx') as writer:  \n",
    "    plot_t1.to_excel(writer, sheet_name='t1', index=False)\n",
    "    plot_t2.to_excel(writer, sheet_name='t2', index=False)\n",
    "    plot_t3.to_excel(writer, sheet_name='t3', index=False)\n",
    "    plot_t4.to_excel(writer, sheet_name='t4', index=False)\n",
    "    plot_only_ba.to_excel(writer, sheet_name='only_ba', index=False)\n",
    "    plot_only_cap.to_excel(writer, sheet_name='only_cap', index=False)\n",
    "    plot_ba_cap.to_excel(writer, sheet_name='ba_cap', index=False)    "
   ]
  }
 ],
 "metadata": {
  "kernelspec": {
   "display_name": "Python 3",
   "language": "python",
   "name": "python3"
  },
  "language_info": {
   "codemirror_mode": {
    "name": "ipython",
    "version": 3
   },
   "file_extension": ".py",
   "mimetype": "text/x-python",
   "name": "python",
   "nbconvert_exporter": "python",
   "pygments_lexer": "ipython3",
   "version": "3.7.4"
  }
 },
 "nbformat": 4,
 "nbformat_minor": 2
}
